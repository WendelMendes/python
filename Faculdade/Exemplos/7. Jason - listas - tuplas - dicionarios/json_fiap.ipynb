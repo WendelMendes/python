{
 "cells": [
  {
   "cell_type": "markdown",
   "metadata": {},
   "source": [
    "# Manipulação de arquivos e JSON"
   ]
  },
  {
   "cell_type": "markdown",
   "metadata": {},
   "source": [
    "## Revisão de estrutura de dados! :)"
   ]
  },
  {
   "cell_type": "code",
   "execution_count": null,
   "metadata": {},
   "outputs": [],
   "source": [
    "exemplo_de_lista        = [] # mutável\n",
    "exemplo_de_tupla        = () # imutável\n",
    "exemplo_de_dicionario   = {} # mutável"
   ]
  },
  {
   "cell_type": "markdown",
   "metadata": {},
   "source": [
    "O que é, de fato, uma estrutura imutável?"
   ]
  },
  {
   "cell_type": "code",
   "execution_count": null,
   "metadata": {},
   "outputs": [],
   "source": [
    "exemplo_de_tupla[0] = 1"
   ]
  },
  {
   "cell_type": "code",
   "execution_count": null,
   "metadata": {},
   "outputs": [],
   "source": [
    "exemplo_de_lista[0] = 1"
   ]
  },
  {
   "cell_type": "code",
   "execution_count": null,
   "metadata": {},
   "outputs": [],
   "source": [
    "exemplo_de_lista.append(1)\n",
    "print(exemplo_de_lista)\n",
    "exemplo_de_lista[0] = 2\n",
    "print(exemplo_de_lista)"
   ]
  },
  {
   "cell_type": "markdown",
   "metadata": {},
   "source": [
    "Interessante, então como declarar uma estrutura imutável com conteúdo?"
   ]
  },
  {
   "cell_type": "code",
   "execution_count": null,
   "metadata": {},
   "outputs": [],
   "source": [
    "lista_simples_sw = ['Yoda', 'Mace Windu', 'Anakyn Skywalker', 'R2-D2', 'Dex']\n",
    "tupla_simples_sw = ('Yoda', 'Mace Windu', 'Anakyn Skywalker', 'R2-D2', 'Dex')"
   ]
  },
  {
   "cell_type": "markdown",
   "metadata": {},
   "source": [
    "### Podemos adicionar estruturas dentro de estruturas para atingir objetivos mais complexos"
   ]
  },
  {
   "cell_type": "code",
   "execution_count": null,
   "metadata": {},
   "outputs": [],
   "source": [
    "# Listas dentro de listas\n",
    "lista_2d_sw = [\n",
    "    ['Yoda','Mestre Jedi'],\n",
    "    ['Mace Windu','Mestre Jedi'],\n",
    "    ['Anakin Skywalker','Cavaleiro Jedi'],\n",
    "    ['R2-D2','Dróide'],\n",
    "    ['Dex','Balconista']\n",
    "]\n",
    "\n",
    "print(lista_2d_sw[2][0])"
   ]
  },
  {
   "cell_type": "code",
   "execution_count": null,
   "metadata": {},
   "outputs": [],
   "source": [
    "# tuplas dentro de listas\n",
    "lista_de_tuplas = [\n",
    "    ('Yoda','Mestre Jedi'),\n",
    "    ('Mace Windu','Mestre Jedi'),\n",
    "    ('Anakin Skywalker','Cavaleiro Jedi'),\n",
    "    ('R2-D2','Dróide'),\n",
    "    ('Dex','Balconista')\n",
    "]\n",
    "\n",
    "print(lista_de_tuplas[4])"
   ]
  },
  {
   "cell_type": "markdown",
   "metadata": {},
   "source": [
    "### Os dicionários tem uma função muito legal para não depender de ordenação, onde ao invés de buscarmos por posição, buscamos por nome da chave"
   ]
  },
  {
   "cell_type": "code",
   "execution_count": null,
   "metadata": {},
   "outputs": [],
   "source": [
    "dicionario_sw = {\n",
    "    'Yoda':'Mestre Jedi',\n",
    "    'Mace Windu':'Mestre Jedi',\n",
    "    'Anakin Skywalker':'Cavaleiro Jedi',\n",
    "    'R2-D2':'Dróide',\n",
    "    'Dex':'Balconista'\n",
    "}\n",
    "\n",
    "# não preciso saber qual a posiçao para chamar um item específico \n",
    "# e nem iterar para descobrir se ele existe\n",
    "print(dicionario_sw['Yoda'])"
   ]
  },
  {
   "cell_type": "code",
   "execution_count": null,
   "metadata": {},
   "outputs": [],
   "source": [
    "# iterando somente com as chaves\n",
    "for key in dicionario_sw.keys():\n",
    "    print(key)"
   ]
  },
  {
   "cell_type": "code",
   "execution_count": null,
   "metadata": {},
   "outputs": [],
   "source": [
    "# iterando somente com os valores\n",
    "for value in dicionario_sw.values():\n",
    "    print(value)"
   ]
  },
  {
   "cell_type": "code",
   "execution_count": null,
   "metadata": {},
   "outputs": [],
   "source": [
    "# iterando em ambos, chave e valor\n",
    "for key, value in dicionario_sw:\n",
    "    print(key, '-', value)"
   ]
  },
  {
   "cell_type": "code",
   "execution_count": null,
   "metadata": {},
   "outputs": [],
   "source": [
    "# iterando em ambos, chave e valor - agora vai\n",
    "for key, value in dicionario_sw.items():\n",
    "    print(key, '-', value)"
   ]
  },
  {
   "cell_type": "markdown",
   "metadata": {},
   "source": [
    "## Como manipular dicionários?"
   ]
  },
  {
   "cell_type": "code",
   "execution_count": null,
   "metadata": {},
   "outputs": [],
   "source": [
    "dicionario_mestres_jedi = {}\n",
    "\n",
    "for key, value in dicionario_sw.items():\n",
    "    if value == 'Mestre Jedi':\n",
    "        dicionario_mestres_jedi[key] = value\n",
    "\n",
    "print(dicionario_mestres_jedi)\n",
    "print(dicionario_sw)"
   ]
  },
  {
   "cell_type": "code",
   "execution_count": null,
   "metadata": {},
   "outputs": [],
   "source": [
    "# e para remover uma chave...\n",
    "print(dicionario_mestres_jedi)\n",
    "dicionario_mestres_jedi.pop('Yoda')\n",
    "print(dicionario_mestres_jedi)"
   ]
  },
  {
   "cell_type": "markdown",
   "metadata": {},
   "source": [
    "### Eu tinha dito que nós podemos usar estruturas dentro de estruturas, né?"
   ]
  },
  {
   "cell_type": "code",
   "execution_count": null,
   "metadata": {},
   "outputs": [],
   "source": [
    "# e isso não é diferente com Dicionários!\n",
    "dicionario_de_atributos = {\n",
    "    'Yoda':['Pequeno', 'Verde', 'Mestre Jedi'],\n",
    "    'Mace Windu':['Mestre Jedi', 'Careca', 'Alto'],\n",
    "    'Anakin Skywalker':['Cavaleiro Jedi', 'Mudou de ideia', 'Agora é Sith'],\n",
    "    'R2-D2':['Dróide', 'Mecânico', 'Melhor robozin'],\n",
    "    'Dex':['Balconista', 'Alado']\n",
    "}\n",
    "\n",
    "print(dicionario_de_atributos['Yoda'][2])"
   ]
  },
  {
   "cell_type": "markdown",
   "metadata": {},
   "source": [
    "### Ficou um pouco bagunçado, várias coisas sem muito nexo juntas... Como organizar?"
   ]
  },
  {
   "cell_type": "code",
   "execution_count": null,
   "metadata": {},
   "outputs": [],
   "source": [
    "# dicionário de dicionários! :D\n",
    "dicionario_de_atributos = {\n",
    "    'Yoda': {\n",
    "        'Cargo': 'Mestre Jedi',\n",
    "        'Tags': [            \n",
    "            'Pequeno',\n",
    "            'Verde'\n",
    "        ]\n",
    "    }, \n",
    "    'Mace Windu': {\n",
    "        'Cargo': 'Mestre Jedi',\n",
    "        'Tags': [\n",
    "            'Careca',\n",
    "            'Alto'\n",
    "        ]\n",
    "    },\n",
    "    'Anakin Skywalker': {\n",
    "        'Cargo': 'Cavaleiro Jedi',\n",
    "        'Tags': [ \n",
    "            'Mudou de ideia', \n",
    "            'Agora é Sith'\n",
    "        ]\n",
    "    }, \n",
    "    'R2-D2': {\n",
    "        'Cargo': 'Mecânico',\n",
    "        'Tags': [\n",
    "            'Dróide',  \n",
    "            'Melhor robozin'\n",
    "        ]\n",
    "    }, \n",
    "    'Dex': {\n",
    "        'Cargo': 'Balconista',\n",
    "        'Tags': [\n",
    "            'Alado'\n",
    "        ]\n",
    "    }\n",
    "}"
   ]
  },
  {
   "cell_type": "code",
   "execution_count": null,
   "metadata": {},
   "outputs": [],
   "source": [
    "print(dicionario_de_atributos['Yoda'])\n",
    "print(dicionario_de_atributos['Yoda']['Tags'])\n",
    "print(dicionario_de_atributos['Yoda']['Tags'][0])\n",
    "print(dicionario_de_atributos['Yoda']['Cargo'])"
   ]
  },
  {
   "cell_type": "markdown",
   "metadata": {},
   "source": [
    "### Bem melhor, né? Mas e se a gente quiser salvar essa estrutura bem organizada para usar em outro lugar?"
   ]
  },
  {
   "cell_type": "markdown",
   "metadata": {},
   "source": [
    "## Manipulação de arquivos! E claro, JSON!"
   ]
  },
  {
   "cell_type": "code",
   "execution_count": null,
   "metadata": {},
   "outputs": [],
   "source": [
    "# é sempre importante garantirmos que um arquivo será aberto para edição (caso exista)\n",
    "# e ao final do processo, fechado. Podemos usar comando específico para abrir e fechar, ou então...\n",
    "with open('arquivo.txt', 'a') as arquivo:\n",
    "    arquivo.write('May the force be with you\\n')"
   ]
  },
  {
   "cell_type": "markdown",
   "metadata": {},
   "source": [
    "- 'r' abrir para leitura (modo padrão).\n",
    "- 'w' abrir para a escrita, sobrescrevendo o conteúdo.\n",
    "- 'x' abrir para a criação de arquivo, gerando uma falha se existir um arquivo de mesmo nome.\n",
    "- 'a' abrindo para escrita, anexando o novo conteúdo ao final do conteúdo já existente no arquivo.\n",
    "- 'b' abrir em modo binário.\n",
    "- 't' abrir em modo de texto (modo padrão).\n",
    "- '+' abrir para atualização (escrita e leitura)."
   ]
  },
  {
   "cell_type": "code",
   "execution_count": null,
   "metadata": {},
   "outputs": [],
   "source": [
    "with open('arquivo.txt', 'w') as arquivo:\n",
    "    arquivo.write(dicionario_de_atributos)"
   ]
  },
  {
   "cell_type": "markdown",
   "metadata": {},
   "source": [
    "### Hmmm... Se não podemos salvar diretamente, vamos precisar iterar em cada objeto e ir escrevendo linha a linha? :("
   ]
  },
  {
   "cell_type": "code",
   "execution_count": null,
   "metadata": {},
   "outputs": [],
   "source": [
    "# ainda bem que a resposta é não :D\n",
    "# mas para fazer isso de maneira eficiente vamos precisar utilizar o formato de arquivos JSON\n",
    "# e consequentemente, um módulo só dele para nos ajudar a manipulá-lo:\n",
    "import json"
   ]
  },
  {
   "cell_type": "code",
   "execution_count": null,
   "metadata": {},
   "outputs": [],
   "source": [
    "with open('arquivo_json.json', 'w', encoding='utf-8') as arquivo:\n",
    "    arquivo.write(\n",
    "        json.dumps(dicionario_de_atributos,\n",
    "                   indent=4,  # indentação para leitura \n",
    "                   ensure_ascii=False  # acentuação e outros caracteres   \n",
    "        ) \n",
    "    )"
   ]
  },
  {
   "cell_type": "markdown",
   "metadata": {},
   "source": [
    "# s2"
   ]
  },
  {
   "cell_type": "code",
   "execution_count": null,
   "metadata": {},
   "outputs": [],
   "source": [
    "# agora que o arquivo foi salvo, precisamos ler ele novamente:\n",
    "with open('arquivo_json.json', 'r', encoding='utf-8') as arquivo:\n",
    "    arquivo_json = json.load(arquivo)\n",
    "    print(arquivo_json, '\\n')\n",
    "    print(type(arquivo_json))\n"
   ]
  },
  {
   "cell_type": "markdown",
   "metadata": {},
   "source": [
    "## Assim podemos fazer a leitura de arquivos salvos por outros sistemas e trabalhar como se fossem dicionários aninhados, conforme exploramos no início da aula :)"
   ]
  },
  {
   "cell_type": "code",
   "execution_count": null,
   "metadata": {},
   "outputs": [],
   "source": [
    "arquivo_json['Yoda']['Cargo']"
   ]
  },
  {
   "cell_type": "code",
   "execution_count": null,
   "metadata": {},
   "outputs": [],
   "source": []
  }
 ],
 "metadata": {
  "interpreter": {
   "hash": "70f3edb9b963f7a5e8139538a4ca0fc01b4be08da43f1be2edc38cfc5f17d9a1"
  },
  "kernelspec": {
   "display_name": "Python 3.9.1 64-bit ('3.9.1': pyenv)",
   "language": "python",
   "name": "python3"
  },
  "language_info": {
   "codemirror_mode": {
    "name": "ipython",
    "version": 3
   },
   "file_extension": ".py",
   "mimetype": "text/x-python",
   "name": "python",
   "nbconvert_exporter": "python",
   "pygments_lexer": "ipython3",
   "version": "3.9.7"
  },
  "metadata": {
   "interpreter": {
    "hash": "71cb18df140bac42ad459c04d218f385dddbebaab3a3d77e3ef49e0426100a31"
   }
  },
  "orig_nbformat": 2
 },
 "nbformat": 4,
 "nbformat_minor": 2
}
